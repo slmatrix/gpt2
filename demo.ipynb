{
 "cells": [
  {
   "cell_type": "markdown",
   "metadata": {},
   "source": [
    "### A cute little demo showing the simplest usage of minGPT. Configured to run fine on Macbook Air in like a minute."
   ]
  },
  {
   "cell_type": "code",
   "execution_count": 4,
   "metadata": {},
   "outputs": [],
   "source": [
    "from mingpt.utils import set_seed\n",
    "\n",
    "set_seed(3407)"
   ]
  },
  {
   "cell_type": "code",
   "execution_count": 38,
   "metadata": {},
   "outputs": [],
   "source": [
    "import torch\n",
    "import pickle\n",
    "\n",
    "from torch.utils.data import Dataset\n",
    "\n",
    "class SortDataset(Dataset):\n",
    "    \"\"\" \n",
    "    Dataset for the Sort problem. E.g. for problem length 6:\n",
    "    Input: 0 0 2 1 0 1 -> Output: 0 0 0 1 1 2\n",
    "    Which will feed into the transformer concatenated as:\n",
    "    input:  0 0 2 1 0 1 0 0 0 1 1\n",
    "    output: I I I I I 0 0 0 1 1 2\n",
    "    where I is \"ignore\", as the transformer is reading the input sequence\n",
    "    \"\"\"\n",
    "    def __init__(self,\n",
    "                 split,\n",
    "                 length=6,\n",
    "                 num_max=3):\n",
    "        assert split in {'train', 'test'}\n",
    "        self.split   = split\n",
    "        self.length  = length\n",
    "        self.num_max = num_max\n",
    "    \n",
    "    def __len__(self):\n",
    "        return 10000 # ...\n",
    "    \n",
    "    def get_vocab_size(self):\n",
    "        return self.num_max\n",
    "    \n",
    "    def get_block_size(self):\n",
    "        # the length of the sequence that will feed into transformer, \n",
    "        # containing concatenated input and the output, but -1 because\n",
    "        # the transformer starts making predictions at the last input element\n",
    "        return self.length * 2 - 1\n",
    "\n",
    "    def __getitem__(self, idx):\n",
    "        # use rejection sampling to generate an input example from the desired split\n",
    "        while True:\n",
    "            # generate self.length random integers\n",
    "            input = torch.randint(self.num_max, size=(self.length,), dtype=torch.long)\n",
    "            # half of the time let's try to boost the number of examples that \n",
    "            # have a large number of repeats, as this is what the model seems to struggle\n",
    "            # with later in training, and they are kind of rare\n",
    "            if (torch.rand(1).item() < 0.5) and\\\n",
    "               (input.unique().nelement() > self.length//2):\n",
    "                continue # too many unqiue digits, re-sample\n",
    "            break\n",
    "            # # figure out if this generated example is train or test based on its hash\n",
    "            # h = hash(pickle.dumps(input.tolist()))\n",
    "            # inp_split = 'test' if h % 4 == 0 else 'train' # designate 25% of examples as test\n",
    "            # if inp_split == self.split:\n",
    "            #     break # ok\n",
    "        \n",
    "        # solve the task: i.e. sort\n",
    "        output = torch.sort(input)[0]\n",
    "        # concatenate the problem specification and the solution\n",
    "        io_seq = torch.cat((input, output), dim=0)\n",
    "        # the inputs to the transformer will be the offset sequence\n",
    "        x = io_seq[:-1].clone()\n",
    "        y = io_seq[1:].clone()\n",
    "        # we only want to predict at output locations,\n",
    "        # mask the input locations\n",
    "        y[:self.length-1] = -1\n",
    "        return x, y"
   ]
  },
  {
   "cell_type": "code",
   "execution_count": 39,
   "metadata": {},
   "outputs": [
    {
     "name": "stdout",
     "output_type": "stream",
     "text": [
      "10000\n",
      "0 -1\n",
      "1 -1\n",
      "2 -1\n",
      "2 -1\n",
      "1 -1\n",
      "1 0\n",
      "0 1\n",
      "1 1\n",
      "1 1\n",
      "1 2\n",
      "2 2\n"
     ]
    }
   ],
   "source": [
    "# print an example instance of the dataset\n",
    "train_dataset = SortDataset('train')\n",
    "test_dataset  = SortDataset('test')\n",
    "print(len(train_dataset))\n",
    "x, y = train_dataset[0]\n",
    "for a, b in zip(x,y):\n",
    "    print(int(a),int(b))"
   ]
  },
  {
   "cell_type": "code",
   "execution_count": 40,
   "metadata": {},
   "outputs": [
    {
     "name": "stdout",
     "output_type": "stream",
     "text": [
      "number of parameters: 0.09M\n"
     ]
    }
   ],
   "source": [
    "# create a GPT instance\n",
    "from mingpt.model import GPT\n",
    "\n",
    "model_config            = GPT.get_default_config()\n",
    "model_config.model_type = 'gpt-nano'\n",
    "model_config.vocab_size = train_dataset.get_vocab_size()\n",
    "model_config.block_size = train_dataset.get_block_size()\n",
    "model = GPT(model_config)"
   ]
  },
  {
   "cell_type": "code",
   "execution_count": 41,
   "metadata": {},
   "outputs": [
    {
     "name": "stdout",
     "output_type": "stream",
     "text": [
      "running on device cuda\n"
     ]
    }
   ],
   "source": [
    "# create a Trainer object\n",
    "from mingpt.trainer import Trainer\n",
    "\n",
    "train_config               = Trainer.get_default_config()\n",
    "train_config.learning_rate = 5e-4 # the model we're using is so small that we can go a bit faster\n",
    "train_config.max_iters     = 2000\n",
    "train_config.num_workers   = 0\n",
    "trainer = Trainer(train_config, model, train_dataset)"
   ]
  },
  {
   "cell_type": "code",
   "execution_count": 42,
   "metadata": {},
   "outputs": [],
   "source": [
    "def batch_end_callback(trainer):\n",
    "    if trainer.iter_num % 100 == 0:\n",
    "        print(f\"iter_dt {trainer.iter_dt * 1000:.2f}ms; \", end='')\n",
    "        print(f\"iter {trainer.iter_num}; train loss {trainer.loss.item():.5f}\")"
   ]
  },
  {
   "cell_type": "code",
   "execution_count": 43,
   "metadata": {},
   "outputs": [
    {
     "name": "stdout",
     "output_type": "stream",
     "text": [
      "iter_dt 0.00ms; iter 0; train loss 1.11918\n",
      "iter_dt 8.72ms; iter 100; train loss 0.14599\n",
      "iter_dt 8.91ms; iter 200; train loss 0.06026\n",
      "iter_dt 8.75ms; iter 300; train loss 0.00667\n",
      "iter_dt 8.89ms; iter 400; train loss 0.04524\n",
      "iter_dt 8.73ms; iter 500; train loss 0.03395\n",
      "iter_dt 8.69ms; iter 600; train loss 0.01883\n",
      "iter_dt 8.79ms; iter 700; train loss 0.01140\n",
      "iter_dt 8.81ms; iter 800; train loss 0.05627\n",
      "iter_dt 8.83ms; iter 900; train loss 0.00892\n",
      "iter_dt 8.92ms; iter 1000; train loss 0.02142\n",
      "iter_dt 8.70ms; iter 1100; train loss 0.00104\n",
      "iter_dt 8.84ms; iter 1200; train loss 0.00378\n",
      "iter_dt 8.85ms; iter 1300; train loss 0.00833\n",
      "iter_dt 8.79ms; iter 1400; train loss 0.00032\n",
      "iter_dt 8.84ms; iter 1500; train loss 0.01909\n",
      "iter_dt 8.98ms; iter 1600; train loss 0.00556\n",
      "iter_dt 8.74ms; iter 1700; train loss 0.00967\n",
      "iter_dt 8.83ms; iter 1800; train loss 0.00258\n",
      "iter_dt 8.90ms; iter 1900; train loss 0.01514\n"
     ]
    }
   ],
   "source": [
    "trainer.set_callback('on_batch_end', batch_end_callback)\n",
    "trainer.run()"
   ]
  },
  {
   "cell_type": "code",
   "execution_count": 44,
   "metadata": {},
   "outputs": [],
   "source": [
    "# now let's perform some evaluation\n",
    "model.eval();"
   ]
  },
  {
   "cell_type": "code",
   "execution_count": 53,
   "metadata": {},
   "outputs": [
    {
     "name": "stdout",
     "output_type": "stream",
     "text": [
      "train final score: 5000.0/5000 = 100.00% correct\n",
      "GPT claims that [2, 2, 2, 2, 2, 1] sorted is [1, 1, 2, 2, 2, 2] but gt is [1, 2, 2, 2, 2, 2]\n",
      "GPT claims that [2, 2, 2, 2, 2, 1] sorted is [1, 1, 2, 2, 2, 2] but gt is [1, 2, 2, 2, 2, 2]\n",
      "GPT claims that [2, 2, 2, 2, 2, 1] sorted is [1, 1, 2, 2, 2, 2] but gt is [1, 2, 2, 2, 2, 2]\n",
      "test final score: 4973.0/5000 = 99.46% correct\n"
     ]
    }
   ],
   "source": [
    "from torch.utils.data.dataloader import DataLoader\n",
    "\n",
    "def eval_split(trainer, split, max_batches):\n",
    "    dataset = {'train':train_dataset, 'test':test_dataset}[split]\n",
    "    n = train_dataset.length # naugy direct access shrug\n",
    "    results = []\n",
    "    mistakes_printed_already = 0\n",
    "    loader = DataLoader(dataset, batch_size=100, num_workers=0, drop_last=False)\n",
    "    for b, (x, y) in enumerate(loader):\n",
    "        x = x.to(trainer.device)\n",
    "        y = y.to(trainer.device)\n",
    "        # isolate the input pattern alone\n",
    "        inp = x[:, :n]\n",
    "        sol = y[:, -n:]\n",
    "        # let the model sample the rest of the sequence\n",
    "        cat = model.generate(inp, n, do_sample=False) # using greedy argmax, not sampling\n",
    "        sol_candidate = cat[:, n:] # isolate the filled in sequence\n",
    "        # compare the predicted sequence to the true sequence\n",
    "        correct = (sol == sol_candidate).all(1).cpu() # Software 1.0 vs. Software 2.0 fight RIGHT on this line haha\n",
    "        for i in range(x.size(0)):\n",
    "            results.append(int(correct[i]))\n",
    "            if not correct[i] and mistakes_printed_already < 3: # only print up to 5 mistakes to get a sense\n",
    "                mistakes_printed_already += 1\n",
    "                print(\"GPT claims that %s sorted is %s but gt is %s\" % (inp[i].tolist(), sol_candidate[i].tolist(), sol[i].tolist()))\n",
    "        if max_batches is not None and b+1 >= max_batches:\n",
    "            break\n",
    "    rt = torch.tensor(results, dtype=torch.float)\n",
    "    print(f\"{split} final score: {rt.sum()}/{len(results)} = {100*rt.mean():.2f}% correct\")\n",
    "    return rt.sum()\n",
    "\n",
    "# run a lot of examples from both train and test through the model and verify the output correctness\n",
    "with torch.no_grad():\n",
    "    train_score = eval_split(trainer, 'train', max_batches=50)\n",
    "    test_score  = eval_split(trainer, 'test',  max_batches=50)"
   ]
  },
  {
   "cell_type": "code",
   "execution_count": 60,
   "metadata": {},
   "outputs": [
    {
     "name": "stdout",
     "output_type": "stream",
     "text": [
      "input sequence  : [[2, 0, 2, 1, 0, 1]]\n",
      "predicted sorted: [[0, 0, 1, 1, 2, 2]]\n",
      "gt sort         : [0, 0, 1, 1, 2, 2]\n",
      "matches         : True\n"
     ]
    }
   ],
   "source": [
    "# let's run a random given sequence through the model as well\n",
    "n = train_dataset.length # naugy direct access shrug\n",
    "input   = torch.tensor([[2, 0, 2, 1, 0, 1]], dtype=torch.long).to(trainer.device)\n",
    "correct = torch.sort(input[0])[0]\n",
    "assert input[0].nelement() == n\n",
    "with torch.no_grad():\n",
    "    output = model.generate(input, n, do_sample=False)\n",
    "output = output[:, n:]\n",
    "print('input sequence  :', input.tolist())\n",
    "print('predicted sorted:', output.tolist())\n",
    "print('gt sort         :', correct.tolist())\n",
    "print('matches         :', bool((correct == output).all()))"
   ]
  }
 ],
 "metadata": {
  "kernelspec": {
   "display_name": "Python 3 (ipykernel)",
   "language": "python",
   "name": "python3"
  },
  "language_info": {
   "codemirror_mode": {
    "name": "ipython",
    "version": 3
   },
   "file_extension": ".py",
   "mimetype": "text/x-python",
   "name": "python",
   "nbconvert_exporter": "python",
   "pygments_lexer": "ipython3",
   "version": "3.11.7"
  },
  "vscode": {
   "interpreter": {
    "hash": "3ad933181bd8a04b432d3370b9dc3b0662ad032c4dfaa4e4f1596c548f763858"
   }
  }
 },
 "nbformat": 4,
 "nbformat_minor": 4
}
